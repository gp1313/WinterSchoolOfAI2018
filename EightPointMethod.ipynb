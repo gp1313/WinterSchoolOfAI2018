{
  "nbformat": 4,
  "nbformat_minor": 0,
  "metadata": {
    "colab": {
      "name": "EightPointMethod.ipynb",
      "version": "0.3.2",
      "provenance": [],
      "collapsed_sections": [],
      "include_colab_link": true
    },
    "kernelspec": {
      "name": "python3",
      "display_name": "Python 3"
    }
  },
  "cells": [
    {
      "cell_type": "markdown",
      "metadata": {
        "id": "view-in-github",
        "colab_type": "text"
      },
      "source": [
        "<a href=\"https://colab.research.google.com/github/gp1313/WinterSchoolOfAI2018/blob/master/EightPointMethod.ipynb\" target=\"_parent\"><img src=\"https://colab.research.google.com/assets/colab-badge.svg\" alt=\"Open In Colab\"/></a>"
      ]
    },
    {
      "metadata": {
        "id": "ASI936Aljehy",
        "colab_type": "text"
      },
      "cell_type": "markdown",
      "source": [
        "# **Eight Point Method Assignment**"
      ]
    },
    {
      "metadata": {
        "id": "e1Uje4Qyj1mv",
        "colab_type": "text"
      },
      "cell_type": "markdown",
      "source": [
        "The following exercise tells you how to compute the Essential matrix using the 8 point method.\n",
        "\n",
        "\n",
        "\n",
        "Generate 50 points using uniform distribution\n",
        "np.random.uniform()\n",
        "In the range 0 to 1\n",
        "\n",
        "2. Add [ 1 4 3] to all the points.\n",
        "\n",
        "3. Project the points into two cameras using the two projection matrices.\n",
        "\n",
        "P1 = [ [1 0 0 0], [0 1 0 0], [0 0 1 0], [0 0 0 1]]\n",
        "\n",
        "\n",
        "Generate a rotation and translation\n",
        "R =[ 0.8660    0.2500    0.4330\n",
        "         0    0.8660   -0.5000\n",
        "      -0.5000    0.4330    0.7500]\n",
        "\n",
        "T = [ -0.4 0.3 0.6]\n",
        "\n",
        "P2 = [[ R | t ], [ 0 0 0 1]]\n",
        "\n",
        "4. Use corresponding points in the image to generate 8 point equations\n",
        "\n",
        "5. Formulate two equations:\n",
        "\n",
        "Ax = 0 and\n",
        "Ax = b\n",
        "\n",
        "6. Solve using svd and pseudoinverse\n",
        "\n",
        "7. What are the values?\n",
        "\n",
        "8. Use python-opencv to decompose the essential matrix:\n",
        "\n",
        "R1, R2, T = cv2.decomposeEssentialMat(E)"
      ]
    },
    {
      "metadata": {
        "id": "sZ8B54gfj8_w",
        "colab_type": "text"
      },
      "cell_type": "markdown",
      "source": [
        "Step One : Generate 50 random 3D points"
      ]
    },
    {
      "metadata": {
        "id": "9BcheAhEjuZ4",
        "colab_type": "code",
        "colab": {}
      },
      "cell_type": "code",
      "source": [
        "import numpy as np"
      ],
      "execution_count": 0,
      "outputs": []
    },
    {
      "metadata": {
        "id": "qdUNtR38uMvo",
        "colab_type": "text"
      },
      "cell_type": "markdown",
      "source": [
        "## 1. Generate 3d 50 points using uniform distribution"
      ]
    },
    {
      "metadata": {
        "id": "18QG349LkGZL",
        "colab_type": "code",
        "colab": {}
      },
      "cell_type": "code",
      "source": [
        "oReferenceNP = np.array([1, 4, 3], dtype=float)"
      ],
      "execution_count": 0,
      "outputs": []
    },
    {
      "metadata": {
        "id": "ZoZTsTOTkUSq",
        "colab_type": "code",
        "outputId": "7cc36b55-ecb8-4bed-ee4c-74056a0eb88c",
        "colab": {
          "base_uri": "https://localhost:8080/",
          "height": 35
        }
      },
      "cell_type": "code",
      "source": [
        "oReferenceNP"
      ],
      "execution_count": 0,
      "outputs": [
        {
          "output_type": "execute_result",
          "data": {
            "text/plain": [
              "array([1., 4., 3.])"
            ]
          },
          "metadata": {
            "tags": []
          },
          "execution_count": 3
        }
      ]
    },
    {
      "metadata": {
        "id": "FybE3QGPkWCC",
        "colab_type": "code",
        "colab": {}
      },
      "cell_type": "code",
      "source": [
        "oRandomMatrix = np.random.uniform(size=(50, 3))"
      ],
      "execution_count": 0,
      "outputs": []
    },
    {
      "metadata": {
        "id": "nQdwvAT-odXB",
        "colab_type": "code",
        "colab": {}
      },
      "cell_type": "code",
      "source": [
        "#oRandomMatrix"
      ],
      "execution_count": 0,
      "outputs": []
    },
    {
      "metadata": {
        "id": "6FL-P9equGPZ",
        "colab_type": "text"
      },
      "cell_type": "markdown",
      "source": [
        "## 2. Add [ 1 4 3] to all the points -> 1 to x, 4 to y and 3 to z."
      ]
    },
    {
      "metadata": {
        "id": "7nFY8C1dmIuS",
        "colab_type": "code",
        "colab": {}
      },
      "cell_type": "code",
      "source": [
        "o50PointsMatrixNP = oRandomMatrix + oReferenceNP # Using broadcsting approach"
      ],
      "execution_count": 0,
      "outputs": []
    },
    {
      "metadata": {
        "id": "r__gSs7Omlw0",
        "colab_type": "code",
        "outputId": "c147eb32-64b4-4af8-f8b6-e5c90fc46a1a",
        "colab": {
          "base_uri": "https://localhost:8080/",
          "height": 35
        }
      },
      "cell_type": "code",
      "source": [
        "o50PointsMatrixNP.shape"
      ],
      "execution_count": 0,
      "outputs": [
        {
          "output_type": "execute_result",
          "data": {
            "text/plain": [
              "(50, 3)"
            ]
          },
          "metadata": {
            "tags": []
          },
          "execution_count": 8
        }
      ]
    },
    {
      "metadata": {
        "id": "JJBbUVkhpGGu",
        "colab_type": "code",
        "colab": {}
      },
      "cell_type": "code",
      "source": [
        "oOneArrayNP = np.ones(shape=(50, 1))"
      ],
      "execution_count": 0,
      "outputs": []
    },
    {
      "metadata": {
        "id": "ZsWnyPB9pVlH",
        "colab_type": "code",
        "colab": {}
      },
      "cell_type": "code",
      "source": [
        "o50HomogenousPointsMatrixNP = np.concatenate((o50PointsMatrixNP, oOneArrayNP), axis=1)"
      ],
      "execution_count": 0,
      "outputs": []
    },
    {
      "metadata": {
        "id": "SxdVXvydmoWX",
        "colab_type": "code",
        "colab": {}
      },
      "cell_type": "code",
      "source": [
        "# o50HomogenousPointsMatrixNP"
      ],
      "execution_count": 0,
      "outputs": []
    },
    {
      "metadata": {
        "id": "g-ciJImTuAtr",
        "colab_type": "text"
      },
      "cell_type": "markdown",
      "source": [
        "## 3. Project the points into two cameras using the two projection matrices."
      ]
    },
    {
      "metadata": {
        "id": "Wf1uV0TznSv_",
        "colab_type": "text"
      },
      "cell_type": "markdown",
      "source": [
        "P1 = [ [1 0 0 0], [0 1 0 0], [0 0 1 0]]"
      ]
    },
    {
      "metadata": {
        "id": "lDQAiWYGmreq",
        "colab_type": "code",
        "colab": {}
      },
      "cell_type": "code",
      "source": [
        "oFirstProjectionMatrixNP = np.array([[1, 0, 0, 0], [0, 1, 0, 0], [0, 0, 1, 0]], dtype=float)"
      ],
      "execution_count": 0,
      "outputs": []
    },
    {
      "metadata": {
        "id": "QUACRRYjoq7R",
        "colab_type": "code",
        "outputId": "b23b5562-4a7a-4bb8-bfea-713fcca35c94",
        "colab": {
          "base_uri": "https://localhost:8080/",
          "height": 35
        }
      },
      "cell_type": "code",
      "source": [
        "oFirstProjectionMatrixNP.shape"
      ],
      "execution_count": 0,
      "outputs": [
        {
          "output_type": "execute_result",
          "data": {
            "text/plain": [
              "(3, 4)"
            ]
          },
          "metadata": {
            "tags": []
          },
          "execution_count": 12
        }
      ]
    },
    {
      "metadata": {
        "id": "_cv0yDRnosk3",
        "colab_type": "code",
        "colab": {}
      },
      "cell_type": "code",
      "source": [
        "oFirstProjectedPointsNP = np.matmul(o50HomogenousPointsMatrixNP, oFirstProjectionMatrixNP.T)"
      ],
      "execution_count": 0,
      "outputs": []
    },
    {
      "metadata": {
        "id": "-A-GuBcaqUYP",
        "colab_type": "code",
        "outputId": "d68ea8e7-5250-40b0-cd1e-c630a5fc5e12",
        "colab": {
          "base_uri": "https://localhost:8080/",
          "height": 917
        }
      },
      "cell_type": "code",
      "source": [
        "oFirstProjectedPointsNP"
      ],
      "execution_count": 0,
      "outputs": [
        {
          "output_type": "execute_result",
          "data": {
            "text/plain": [
              "array([[1.24154571, 4.54196954, 3.93923003],\n",
              "       [1.2138547 , 4.01792087, 3.1483685 ],\n",
              "       [1.6790228 , 4.0803074 , 3.44976783],\n",
              "       [1.96826969, 4.77700946, 3.6463029 ],\n",
              "       [1.6975823 , 4.48955602, 3.70263183],\n",
              "       [1.36451344, 4.3270391 , 3.89838045],\n",
              "       [1.43229362, 4.94590754, 3.69329619],\n",
              "       [1.37256408, 4.13398291, 3.36021476],\n",
              "       [1.04074668, 4.3673861 , 3.94643119],\n",
              "       [1.16738646, 4.15900665, 3.74654415],\n",
              "       [1.30378824, 4.22879016, 3.25061715],\n",
              "       [1.8644055 , 4.06985148, 3.21537997],\n",
              "       [1.2107832 , 4.93367641, 3.13634715],\n",
              "       [1.78329724, 4.15760481, 3.60340765],\n",
              "       [1.24900441, 4.92679552, 3.54986671],\n",
              "       [1.95048972, 4.57616074, 3.24039509],\n",
              "       [1.67514181, 4.56107487, 3.34756258],\n",
              "       [1.50886987, 4.56179987, 3.74130292],\n",
              "       [1.35241555, 4.39404821, 3.18178119],\n",
              "       [1.00297974, 4.56761745, 3.84993808],\n",
              "       [1.50698903, 4.04605909, 3.16271798],\n",
              "       [1.43519853, 4.46723648, 3.77449273],\n",
              "       [1.56471732, 4.67018574, 3.73682198],\n",
              "       [1.06068534, 4.91474217, 3.48741367],\n",
              "       [1.94458982, 4.2519509 , 3.67106441],\n",
              "       [1.55748378, 4.48636232, 3.01870212],\n",
              "       [1.82498088, 4.20697645, 3.84449167],\n",
              "       [1.67846255, 4.4410322 , 3.22361392],\n",
              "       [1.36498967, 4.2808066 , 3.19766877],\n",
              "       [1.46251907, 4.75346273, 3.52367411],\n",
              "       [1.61479104, 4.45850761, 3.10323307],\n",
              "       [1.97090805, 4.52572996, 3.60962532],\n",
              "       [1.35072911, 4.53839466, 3.1304115 ],\n",
              "       [1.57827321, 4.01217578, 3.18797448],\n",
              "       [1.8164281 , 4.94097171, 3.14688778],\n",
              "       [1.66335677, 4.14368215, 3.28911337],\n",
              "       [1.79572447, 4.28169422, 3.33011977],\n",
              "       [1.44737542, 4.72250278, 3.80704451],\n",
              "       [1.51042605, 4.26916302, 3.99193112],\n",
              "       [1.79570759, 4.13994386, 3.51389285],\n",
              "       [1.73925427, 4.34432225, 3.89787067],\n",
              "       [1.1545299 , 4.3651543 , 3.94196192],\n",
              "       [1.77869856, 4.99299942, 3.97675878],\n",
              "       [1.87852501, 4.97071242, 3.62702352],\n",
              "       [1.87864309, 4.37547725, 3.67708041],\n",
              "       [1.06189752, 4.76432207, 3.85828241],\n",
              "       [1.32491659, 4.77449237, 3.12364868],\n",
              "       [1.27084295, 4.8605786 , 3.69895868],\n",
              "       [1.10731117, 4.59655405, 3.96190581],\n",
              "       [1.09812543, 4.89644384, 3.31213291]])"
            ]
          },
          "metadata": {
            "tags": []
          },
          "execution_count": 14
        }
      ]
    },
    {
      "metadata": {
        "id": "TtbnT1XtqzjP",
        "colab_type": "text"
      },
      "cell_type": "markdown",
      "source": [
        "R =[ 0.8660    0.2500    0.4330\n",
        "         0    0.8660   -0.5000\n",
        "      -0.5000    0.4330    0.7500]\n",
        "\n",
        "T = [ -0.4 0.3 0.6]\n",
        "\n",
        "P2 = [[ R | t ], [ 0 0 0 1]] -> second camera"
      ]
    },
    {
      "metadata": {
        "id": "lOVo_EFJq19N",
        "colab_type": "code",
        "colab": {}
      },
      "cell_type": "code",
      "source": [
        "oRotationTransNP = np.array([ [0.8660, 0.2500, 0.4330, -0.4],\n",
        "                               [0,0.8660,-0.5000, 0.3],\n",
        "                               [-0.5000, 0.4330, 0.7500, 0.6]],\n",
        "                              dtype=float)"
      ],
      "execution_count": 0,
      "outputs": []
    },
    {
      "metadata": {
        "id": "VT8SLvUSrnbP",
        "colab_type": "code",
        "outputId": "639ce747-4bb6-4754-dcac-23be567f70cc",
        "colab": {
          "base_uri": "https://localhost:8080/",
          "height": 71
        }
      },
      "cell_type": "code",
      "source": [
        "oRotationTransNP"
      ],
      "execution_count": 0,
      "outputs": [
        {
          "output_type": "execute_result",
          "data": {
            "text/plain": [
              "array([[ 0.866,  0.25 ,  0.433, -0.4  ],\n",
              "       [ 0.   ,  0.866, -0.5  ,  0.3  ],\n",
              "       [-0.5  ,  0.433,  0.75 ,  0.6  ]])"
            ]
          },
          "metadata": {
            "tags": []
          },
          "execution_count": 16
        }
      ]
    },
    {
      "metadata": {
        "id": "qwKni7-sr_HP",
        "colab_type": "code",
        "colab": {}
      },
      "cell_type": "code",
      "source": [
        "oSecondProjectiveMatrixNP = oRotationTransNP # np.concatenate((oRotationTransNP, np.array([[0, 0, 0, 1]])), axis=0)"
      ],
      "execution_count": 0,
      "outputs": []
    },
    {
      "metadata": {
        "id": "o6o5VNfetCbO",
        "colab_type": "code",
        "outputId": "22711830-619d-4202-961a-da6467a20369",
        "colab": {
          "base_uri": "https://localhost:8080/",
          "height": 35
        }
      },
      "cell_type": "code",
      "source": [
        "oSecondProjectiveMatrixNP.shape"
      ],
      "execution_count": 0,
      "outputs": [
        {
          "output_type": "execute_result",
          "data": {
            "text/plain": [
              "(3, 4)"
            ]
          },
          "metadata": {
            "tags": []
          },
          "execution_count": 18
        }
      ]
    },
    {
      "metadata": {
        "id": "M_Jkr-hvtonO",
        "colab_type": "code",
        "colab": {}
      },
      "cell_type": "code",
      "source": [
        "oSecondProjectedPointsNP = np.matmul(o50HomogenousPointsMatrixNP, oSecondProjectiveMatrixNP.T)"
      ],
      "execution_count": 0,
      "outputs": []
    },
    {
      "metadata": {
        "id": "JYVdDxietudO",
        "colab_type": "code",
        "outputId": "4a395ff0-8b75-4a4c-9541-c03387ab3e1c",
        "colab": {
          "base_uri": "https://localhost:8080/",
          "height": 917
        }
      },
      "cell_type": "code",
      "source": [
        "oSecondProjectedPointsNP "
      ],
      "execution_count": 0,
      "outputs": [
        {
          "output_type": "execute_result",
          "data": {
            "text/plain": [
              "array([[3.51635758, 2.2637306 , 4.90032248],\n",
              "       [3.01892195, 2.20533522, 4.09410876],\n",
              "       [3.56786006, 2.10866229, 4.11458758],\n",
              "       [4.07762307, 2.61373874, 4.41903742],\n",
              "       [3.79573486, 2.33663959, 4.47216048],\n",
              "       [3.55142715, 2.09802564, 4.71513655],\n",
              "       [3.67604042, 2.73650783, 4.7954033 ],\n",
              "       [3.27710921, 2.19992182, 4.22389363],\n",
              "       [3.30193785, 2.10894076, 4.93052823],\n",
              "       [3.27296196, 2.02842768, 4.62706476],\n",
              "       [3.19379538, 2.33682371, 4.21713488],\n",
              "       [3.62429756, 2.2168014 , 3.84157792],\n",
              "       [3.23999567, 3.0043902 , 4.48315065],\n",
              "       [3.74401213, 2.09878194, 4.21115   ],\n",
              "       [3.45042899, 2.79167157, 4.77120029],\n",
              "       [3.83625536, 2.64275766, 4.03652906],\n",
              "       [3.64043612, 2.57610955, 4.24804645],\n",
              "       [3.66711544, 2.37986723, 4.6268016 ],\n",
              "       [3.24741518, 2.51435515, 4.21275099],\n",
              "       [3.27750801, 2.33058767, 4.96374205],\n",
              "       [3.28602416, 2.22252818, 3.97048756],\n",
              "       [3.5940464 , 2.28138043, 4.64758368],\n",
              "       [3.74063555, 2.47596985, 4.64244825],\n",
              "       [3.25728916, 2.81245989, 4.81330094],\n",
              "       [3.9365734 , 2.14665727, 4.22209814],\n",
              "       [3.37746955, 2.67583871, 4.02787958],\n",
              "       [3.89684244, 2.02099577, 4.39249912],\n",
              "       [3.55963145, 2.53412692, 4.10144611],\n",
              "       [3.23687329, 2.40834413, 4.169346  ],\n",
              "       [3.58065809, 2.65466167, 4.56974541],\n",
              "       [3.45673587, 2.60945105, 4.05056308],\n",
              "       [4.00120663, 2.41446948, 4.28140604],\n",
              "       [3.25979825, 2.66504402, 4.23756895],\n",
              "       [3.35022149, 2.18055698, 3.93911637],\n",
              "       [3.77087207, 3.00543761, 4.19139254],\n",
              "       [3.50057359, 2.24387206, 4.02937101],\n",
              "       [3.66746281, 2.34288731, 4.0537012 ],\n",
              "       [3.68250308, 2.48616515, 4.77643937],\n",
              "       [3.70382589, 2.00112961, 4.68728291],\n",
              "       [3.71158434, 2.12824496, 4.13016153],\n",
              "       [3.88005276, 2.11324773, 4.5348674 ],\n",
              "       [3.39798098, 2.10924267, 4.8693183 ],\n",
              "       [4.11053936, 2.63555811, 4.85518856],\n",
              "       [4.03998194, 2.7911252 , 4.53332362],\n",
              "       [3.91295004, 2.25062309, 4.31307042],\n",
              "       [3.38132005, 2.49676171, 5.0257145 ],\n",
              "       [3.29354074, 2.87288606, 4.34763341],\n",
              "       [3.51734376, 2.65978173, 4.84342807],\n",
              "       [3.42357521, 2.29966291, 5.00808167],\n",
              "       [3.20924113, 2.88425391, 4.65519716]])"
            ]
          },
          "metadata": {
            "tags": []
          },
          "execution_count": 20
        }
      ]
    },
    {
      "metadata": {
        "id": "HgRwNNpSw3pO",
        "colab_type": "code",
        "outputId": "aeacdcae-93f5-4dd0-ccab-d840f1d98ed9",
        "colab": {
          "base_uri": "https://localhost:8080/",
          "height": 197
        }
      },
      "cell_type": "code",
      "source": [
        "oSecondProjectedPointsNP[..., 2].ravel()"
      ],
      "execution_count": 0,
      "outputs": [
        {
          "output_type": "execute_result",
          "data": {
            "text/plain": [
              "array([4.90032248, 4.09410876, 4.11458758, 4.41903742, 4.47216048,\n",
              "       4.71513655, 4.7954033 , 4.22389363, 4.93052823, 4.62706476,\n",
              "       4.21713488, 3.84157792, 4.48315065, 4.21115   , 4.77120029,\n",
              "       4.03652906, 4.24804645, 4.6268016 , 4.21275099, 4.96374205,\n",
              "       3.97048756, 4.64758368, 4.64244825, 4.81330094, 4.22209814,\n",
              "       4.02787958, 4.39249912, 4.10144611, 4.169346  , 4.56974541,\n",
              "       4.05056308, 4.28140604, 4.23756895, 3.93911637, 4.19139254,\n",
              "       4.02937101, 4.0537012 , 4.77643937, 4.68728291, 4.13016153,\n",
              "       4.5348674 , 4.8693183 , 4.85518856, 4.53332362, 4.31307042,\n",
              "       5.0257145 , 4.34763341, 4.84342807, 5.00808167, 4.65519716])"
            ]
          },
          "metadata": {
            "tags": []
          },
          "execution_count": 21
        }
      ]
    },
    {
      "metadata": {
        "id": "v-hrfLi22wae",
        "colab_type": "code",
        "colab": {}
      },
      "cell_type": "code",
      "source": [
        "oNormalizedFirstProjectedPointsNP = np.divide(oFirstProjectedPointsNP, oFirstProjectedPointsNP[..., 2].ravel().reshape(50, 1))"
      ],
      "execution_count": 0,
      "outputs": []
    },
    {
      "metadata": {
        "id": "zWB24afjwy2B",
        "colab_type": "code",
        "colab": {}
      },
      "cell_type": "code",
      "source": [
        "oNormalizedSecondProjectedPointsNP = np.divide(oSecondProjectedPointsNP, oSecondProjectedPointsNP[..., 2].ravel().reshape(50, 1))"
      ],
      "execution_count": 0,
      "outputs": []
    },
    {
      "metadata": {
        "id": "Y8p15afmwy9f",
        "colab_type": "code",
        "outputId": "0f32c924-0c8b-4f4b-99fc-0cbf0b884cbe",
        "colab": {
          "base_uri": "https://localhost:8080/",
          "height": 917
        }
      },
      "cell_type": "code",
      "source": [
        "oNormalizedSecondProjectedPointsNP"
      ],
      "execution_count": 0,
      "outputs": [
        {
          "output_type": "execute_result",
          "data": {
            "text/plain": [
              "array([[0.71757677, 0.46195544, 1.        ],\n",
              "       [0.73738196, 0.53866063, 1.        ],\n",
              "       [0.86712459, 0.51248448, 1.        ],\n",
              "       [0.92274011, 0.59147242, 1.        ],\n",
              "       [0.84874746, 0.52248563, 1.        ],\n",
              "       [0.75319709, 0.44495544, 1.        ],\n",
              "       [0.76657586, 0.57065228, 1.        ],\n",
              "       [0.77585032, 0.52082794, 1.        ],\n",
              "       [0.66969252, 0.4277312 , 1.        ],\n",
              "       [0.70735166, 0.43838325, 1.        ],\n",
              "       [0.75733773, 0.55412591, 1.        ],\n",
              "       [0.94343981, 0.57705491, 1.        ],\n",
              "       [0.72270506, 0.67015152, 1.        ],\n",
              "       [0.88907119, 0.49838689, 1.        ],\n",
              "       [0.7231784 , 0.58510886, 1.        ],\n",
              "       [0.95038467, 0.65471043, 1.        ],\n",
              "       [0.85696712, 0.60642217, 1.        ],\n",
              "       [0.79258109, 0.51436552, 1.        ],\n",
              "       [0.77085382, 0.596844  , 1.        ],\n",
              "       [0.66028975, 0.46952232, 1.        ],\n",
              "       [0.82761225, 0.55976203, 1.        ],\n",
              "       [0.77331505, 0.49087452, 1.        ],\n",
              "       [0.80574631, 0.53333278, 1.        ],\n",
              "       [0.67672668, 0.58431   , 1.        ],\n",
              "       [0.93237373, 0.50843377, 1.        ],\n",
              "       [0.83852297, 0.66432937, 1.        ],\n",
              "       [0.88715839, 0.46010158, 1.        ],\n",
              "       [0.86789668, 0.61786181, 1.        ],\n",
              "       [0.77635036, 0.57763115, 1.        ],\n",
              "       [0.78355746, 0.58092113, 1.        ],\n",
              "       [0.85339638, 0.64421933, 1.        ],\n",
              "       [0.93455435, 0.56394312, 1.        ],\n",
              "       [0.76926141, 0.62890871, 1.        ],\n",
              "       [0.85050077, 0.55356501, 1.        ],\n",
              "       [0.89967046, 0.7170499 , 1.        ],\n",
              "       [0.86876427, 0.55687899, 1.        ],\n",
              "       [0.90471957, 0.57796251, 1.        ],\n",
              "       [0.77097243, 0.52050596, 1.        ],\n",
              "       [0.79018612, 0.42692742, 1.        ],\n",
              "       [0.89865356, 0.5152934 , 1.        ],\n",
              "       [0.85560446, 0.46599989, 1.        ],\n",
              "       [0.69783505, 0.43317001, 1.        ],\n",
              "       [0.84662816, 0.54283332, 1.        ],\n",
              "       [0.8911744 , 0.6156907 , 1.        ],\n",
              "       [0.90723074, 0.5218146 , 1.        ],\n",
              "       [0.67280385, 0.49679736, 1.        ],\n",
              "       [0.75754794, 0.66079308, 1.        ],\n",
              "       [0.72620956, 0.54915273, 1.        ],\n",
              "       [0.6836101 , 0.45919038, 1.        ],\n",
              "       [0.68938888, 0.61957718, 1.        ]])"
            ]
          },
          "metadata": {
            "tags": []
          },
          "execution_count": 24
        }
      ]
    },
    {
      "metadata": {
        "id": "P4HvX7FoSQq4",
        "colab_type": "code",
        "outputId": "3c2ccf5c-675b-4f15-dfcb-f90d540514b7",
        "colab": {
          "base_uri": "https://localhost:8080/",
          "height": 917
        }
      },
      "cell_type": "code",
      "source": [
        "oNormalizedFirstProjectedPointsNP"
      ],
      "execution_count": 0,
      "outputs": [
        {
          "output_type": "execute_result",
          "data": {
            "text/plain": [
              "array([[0.31517472, 1.15300947, 1.        ],\n",
              "       [0.38555039, 1.27619142, 1.        ],\n",
              "       [0.48670603, 1.18277739, 1.        ],\n",
              "       [0.53979873, 1.31009672, 1.        ],\n",
              "       [0.45847991, 1.21253104, 1.        ],\n",
              "       [0.35002059, 1.10995814, 1.        ],\n",
              "       [0.38780903, 1.33915811, 1.        ],\n",
              "       [0.4084751 , 1.23027342, 1.        ],\n",
              "       [0.26371844, 1.10666724, 1.        ],\n",
              "       [0.31159021, 1.11009145, 1.        ],\n",
              "       [0.40108945, 1.30091917, 1.        ],\n",
              "       [0.57983987, 1.26574512, 1.        ],\n",
              "       [0.38604885, 1.57306452, 1.        ],\n",
              "       [0.4948919 , 1.15379808, 1.        ],\n",
              "       [0.35184544, 1.38788184, 1.        ],\n",
              "       [0.6019296 , 1.41222308, 1.        ],\n",
              "       [0.50040642, 1.36250623, 1.        ],\n",
              "       [0.40330064, 1.21930781, 1.        ],\n",
              "       [0.42504983, 1.38100263, 1.        ],\n",
              "       [0.26051841, 1.18641322, 1.        ],\n",
              "       [0.47648543, 1.27929809, 1.        ],\n",
              "       [0.38023614, 1.18353294, 1.        ],\n",
              "       [0.41872942, 1.24977474, 1.        ],\n",
              "       [0.30414669, 1.40927995, 1.        ],\n",
              "       [0.52970735, 1.1582338 , 1.        ],\n",
              "       [0.51594484, 1.48618915, 1.        ],\n",
              "       [0.47470018, 1.09428679, 1.        ],\n",
              "       [0.52067729, 1.37765635, 1.        ],\n",
              "       [0.42687025, 1.33872734, 1.        ],\n",
              "       [0.41505515, 1.34900748, 1.        ],\n",
              "       [0.52035764, 1.43672986, 1.        ],\n",
              "       [0.54601458, 1.25379494, 1.        ],\n",
              "       [0.43148612, 1.44977574, 1.        ],\n",
              "       [0.49507084, 1.25853447, 1.        ],\n",
              "       [0.57721413, 1.57011373, 1.        ],\n",
              "       [0.50571585, 1.25981737, 1.        ],\n",
              "       [0.5392372 , 1.28574781, 1.        ],\n",
              "       [0.38018348, 1.24046429, 1.        ],\n",
              "       [0.37836977, 1.06944807, 1.        ],\n",
              "       [0.51103083, 1.17816451, 1.        ],\n",
              "       [0.44620625, 1.1145373 , 1.        ],\n",
              "       [0.29288205, 1.10735578, 1.        ],\n",
              "       [0.44727343, 1.25554495, 1.        ],\n",
              "       [0.51792468, 1.370466  , 1.        ],\n",
              "       [0.51090617, 1.18993244, 1.        ],\n",
              "       [0.27522545, 1.23482979, 1.        ],\n",
              "       [0.42415673, 1.52849852, 1.        ],\n",
              "       [0.34356776, 1.31403971, 1.        ],\n",
              "       [0.27948953, 1.16018762, 1.        ],\n",
              "       [0.3315463 , 1.47833555, 1.        ]])"
            ]
          },
          "metadata": {
            "tags": []
          },
          "execution_count": 25
        }
      ]
    },
    {
      "metadata": {
        "id": "DBNlXDgDt0HY",
        "colab_type": "text"
      },
      "cell_type": "markdown",
      "source": [
        "## 4. Use corresponding points in the image to generate 8 point equations"
      ]
    },
    {
      "metadata": {
        "id": "BCB6n5p9TTet",
        "colab_type": "text"
      },
      "cell_type": "markdown",
      "source": [
        "A = [u2 * u1,  u2 v1 , u2 , v2 * u1 , v2 * v1 , v2 , u1 * v1 , 1]\n"
      ]
    },
    {
      "metadata": {
        "id": "84cJ0RGsXmiF",
        "colab_type": "code",
        "colab": {}
      },
      "cell_type": "code",
      "source": [
        "u1 = oNormalizedFirstProjectedPointsNP[:,0].reshape(50, 1)\n",
        "v1 = oNormalizedFirstProjectedPointsNP[:,1].reshape(50, 1)\n",
        "v1 = oNormalizedSecondProjectedPointsNP[:,0].reshape(50, 1)\n",
        "v2 = oNormalizedSecondProjectedPointsNP[:,1].reshape(50, 1)\n",
        "ones = np.ones(shape=(50, 1))"
      ],
      "execution_count": 0,
      "outputs": []
    },
    {
      "metadata": {
        "id": "1YsXufR-wTff",
        "colab_type": "code",
        "colab": {}
      },
      "cell_type": "code",
      "source": [
        "o2DPointsMatrixNP = np.concatenate((u2 * u1,  u2 * v1 , u2 , v2 * u1 , v2 * v1 , v2 , u1 ,  v1 , ones), axis=1)"
      ],
      "execution_count": 0,
      "outputs": []
    },
    {
      "metadata": {
        "id": "AtpDGeNzYjxo",
        "colab_type": "code",
        "outputId": "4a5a2633-b2d3-4fca-fece-7815804deabb",
        "colab": {
          "base_uri": "https://localhost:8080/",
          "height": 35
        }
      },
      "cell_type": "code",
      "source": [
        "o2DPointsMatrixNP.shape"
      ],
      "execution_count": 0,
      "outputs": [
        {
          "output_type": "execute_result",
          "data": {
            "text/plain": [
              "(50, 9)"
            ]
          },
          "metadata": {
            "tags": []
          },
          "execution_count": 36
        }
      ]
    },
    {
      "metadata": {
        "id": "VDMcNmDdYwQg",
        "colab_type": "text"
      },
      "cell_type": "markdown",
      "source": [
        "## 5. Formulate two equations:\n",
        "Ax = 0 and\n",
        "Ax = b"
      ]
    },
    {
      "metadata": {
        "id": "swQ2GoHoYn5u",
        "colab_type": "code",
        "colab": {}
      },
      "cell_type": "code",
      "source": [
        "u, s, vh = np.linalg.svd(o2DPointsMatrixNP, full_matrices=True)"
      ],
      "execution_count": 0,
      "outputs": []
    },
    {
      "metadata": {
        "id": "lIeAaOgFZ-TB",
        "colab_type": "code",
        "outputId": "dd4233c3-5b4b-4e1d-9191-b1b2c49209d2",
        "colab": {
          "base_uri": "https://localhost:8080/",
          "height": 35
        }
      },
      "cell_type": "code",
      "source": [
        "s.shape"
      ],
      "execution_count": 0,
      "outputs": [
        {
          "output_type": "execute_result",
          "data": {
            "text/plain": [
              "(9,)"
            ]
          },
          "metadata": {
            "tags": []
          },
          "execution_count": 44
        }
      ]
    },
    {
      "metadata": {
        "id": "fITbiJJCaqVy",
        "colab_type": "code",
        "outputId": "574bde95-6c59-457c-c2e6-33d8ad1ba009",
        "colab": {
          "base_uri": "https://localhost:8080/",
          "height": 35
        }
      },
      "cell_type": "code",
      "source": [
        "u.shape"
      ],
      "execution_count": 0,
      "outputs": [
        {
          "output_type": "execute_result",
          "data": {
            "text/plain": [
              "(50, 50)"
            ]
          },
          "metadata": {
            "tags": []
          },
          "execution_count": 45
        }
      ]
    },
    {
      "metadata": {
        "id": "3GO9zDHaaujh",
        "colab_type": "code",
        "colab": {}
      },
      "cell_type": "code",
      "source": [
        "v = vh.T"
      ],
      "execution_count": 0,
      "outputs": []
    },
    {
      "metadata": {
        "id": "W-zb2uwpbIi6",
        "colab_type": "code",
        "colab": {}
      },
      "cell_type": "code",
      "source": [
        "x = v[:, -1]"
      ],
      "execution_count": 0,
      "outputs": []
    },
    {
      "metadata": {
        "id": "SmOEtzI7blsM",
        "colab_type": "code",
        "outputId": "a6e22cc5-59d5-4cbf-84df-7a48ce8210d5",
        "colab": {
          "base_uri": "https://localhost:8080/",
          "height": 53
        }
      },
      "cell_type": "code",
      "source": [
        "x"
      ],
      "execution_count": 0,
      "outputs": [
        {
          "output_type": "execute_result",
          "data": {
            "text/plain": [
              "array([ 0.33021491, -0.33070118,  0.10785558, -0.58042068,  0.60852718,\n",
              "       -0.20885536, -0.10732739,  0.08528278, -0.01885844])"
            ]
          },
          "metadata": {
            "tags": []
          },
          "execution_count": 49
        }
      ]
    },
    {
      "metadata": {
        "id": "7Qvc7BrWbmWD",
        "colab_type": "code",
        "colab": {}
      },
      "cell_type": "code",
      "source": [
        "import cv2"
      ],
      "execution_count": 0,
      "outputs": []
    },
    {
      "metadata": {
        "id": "KhXqDGSub1zR",
        "colab_type": "code",
        "colab": {}
      },
      "cell_type": "code",
      "source": [
        "R1, R2, T = cv2.decomposeEssentialMat(x)"
      ],
      "execution_count": 0,
      "outputs": []
    },
    {
      "metadata": {
        "id": "628c41Uib39F",
        "colab_type": "code",
        "outputId": "166188b5-8659-40a5-fe98-c8179801c944",
        "colab": {
          "base_uri": "https://localhost:8080/",
          "height": 71
        }
      },
      "cell_type": "code",
      "source": [
        "T"
      ],
      "execution_count": 0,
      "outputs": [
        {
          "output_type": "execute_result",
          "data": {
            "text/plain": [
              "array([[0.80788802],\n",
              "       [0.37555083],\n",
              "       [0.45417895]])"
            ]
          },
          "metadata": {
            "tags": []
          },
          "execution_count": 52
        }
      ]
    },
    {
      "metadata": {
        "id": "AwyEJbQwb48p",
        "colab_type": "code",
        "outputId": "2c68742d-5c37-4122-ddcf-9fd29f05431b",
        "colab": {
          "base_uri": "https://localhost:8080/",
          "height": 71
        }
      },
      "cell_type": "code",
      "source": [
        "R2"
      ],
      "execution_count": 0,
      "outputs": [
        {
          "output_type": "execute_result",
          "data": {
            "text/plain": [
              "array([[ 0.15789671, -0.00444493,  0.98744563],\n",
              "       [ 0.91762248,  0.37003356, -0.14506601],\n",
              "       [-0.36474322,  0.92900775,  0.06250584]])"
            ]
          },
          "metadata": {
            "tags": []
          },
          "execution_count": 53
        }
      ]
    },
    {
      "metadata": {
        "id": "VT_HjWnKb_Mj",
        "colab_type": "code",
        "outputId": "9d676f89-3288-41bc-b60b-e82837ecfe86",
        "colab": {
          "base_uri": "https://localhost:8080/",
          "height": 71
        }
      },
      "cell_type": "code",
      "source": [
        "R1"
      ],
      "execution_count": 0,
      "outputs": [
        {
          "output_type": "execute_result",
          "data": {
            "text/plain": [
              "array([[ 0.33736781,  0.90493497,  0.2593755 ],\n",
              "       [-0.68739627,  0.04856379,  0.72465711],\n",
              "       [ 0.64317131, -0.42276974,  0.63843278]])"
            ]
          },
          "metadata": {
            "tags": []
          },
          "execution_count": 54
        }
      ]
    },
    {
      "metadata": {
        "id": "TncfqjEZcA66",
        "colab_type": "code",
        "colab": {}
      },
      "cell_type": "code",
      "source": [
        ""
      ],
      "execution_count": 0,
      "outputs": []
    }
  ]
}